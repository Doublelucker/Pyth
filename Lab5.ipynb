{
 "cells": [
  {
   "cell_type": "markdown",
   "metadata": {},
   "source": [
    "# Introduction into regression analysis\n",
    "\n",
    "In pattern recognition problem we have\n",
    "\n",
    "$Y \\in D_Y = \\{w_1, ... , w_k\\}$\n",
    "\n",
    "is a set of unordered values, i.e. $Y$ - a qualitative variable\n",
    "\n",
    "**Regression analysis**: $Y \\in R$ is a real-valued variable.\n",
    "\n",
    "Random samples of objects $ \\{ o^{(1)}, ... , o^{(N)}\\}$\n",
    "\n",
    "Set of variables $X_1, ... , X_n$\n",
    "\n",
    "Data table $ x^{(i)}_j = X_j(o^{(i)}),\\space j = 1, ... , n; y^{(i)}=Y(o^{(i)}) \\space i = 1, ... , N $\n",
    "\n",
    "Purpose of analysis is to predict values of variable $Y$ depending on values $X$ for any new object by minimizing some expected loss $L(y_{pred}, y_{real})$\n",
    "\n",
    "Usually we use OLS (ordinary least squares) loss function : $L(y_{pred}, y_{real}) = (y_{pred} - y_{real})^2$\n",
    "\n",
    "## Approaches for regression:\n",
    "* Parametric models\n",
    "* Non-parametric\n",
    "* SVM\n",
    "* Logical rules (regression trees)\n",
    "* ...\n",
    "\n",
    "\n",
    "Our linear model will look like:\n",
    "$$ Y^{(i)} = \\beta_0 + \\beta_1x^{(i)}_1 + ... + \\beta_nx^{(i)}_n + \\epsilon^{(i)} $$\n",
    "\n",
    "$ \\epsilon $ - is supposed to be $N(0, \\sigma)$, $\\epsilon^{(i)}$ and $\\epsilon^{(i)}$ are supposed to be independent for $i \\neq j $\n",
    "\n",
    "in matrix form:\n",
    "**$$ Y = X\\beta +  \\epsilon $$**"
   ]
  },
  {
   "cell_type": "markdown",
   "metadata": {},
   "source": [
    "# Examples of regression implementations (OLS)\n",
    "\n",
    "* scikit-learn - easier to use\n",
    "* statsmodel - provide stats out of the box (easier to perform statistical tests, and build confidence intervals), but interfaces are a bit harder\n",
    "* tensorflow - we build linear regression with that library just to grasp a concept of computational graphs and SGD optimization\n"
   ]
  },
  {
   "cell_type": "code",
   "execution_count": 1,
   "metadata": {
    "collapsed": false
   },
   "outputs": [
    {
     "name": "stdout",
     "output_type": "stream",
     "text": [
      "Coefficients: \n",
      " [ 938.23786125] 152.918861826\n",
      "Mean squared error: 2548.07\n",
      "Variance score: 0.47\n"
     ]
    },
    {
     "data": {
      "image/png": "[encoded data removed]",
      "text/plain": [
       "<matplotlib.figure.Figure at 0x240db5e5a58>"
      ]
     },
     "metadata": {},
     "output_type": "display_data"
    }
   ],
   "source": [
    "import matplotlib.pyplot as plt\n",
    "import numpy as np\n",
    "from sklearn import datasets, linear_model\n",
    "%matplotlib inline\n",
    "\n",
    "# Load the diabetes dataset\n",
    "diabetes = datasets.load_diabetes()\n",
    "\n",
    "\n",
    "# Use only one feature\n",
    "diabetes_X = diabetes.data[:, np.newaxis, 2]\n",
    "\n",
    "# Split the data into training/testing sets\n",
    "diabetes_X_train = diabetes_X[:-20]\n",
    "diabetes_X_test = diabetes_X[-20:]\n",
    "\n",
    "# Split the targets into training/testing sets\n",
    "diabetes_y_train = diabetes.target[:-20]\n",
    "diabetes_y_test = diabetes.target[-20:]\n",
    "\n",
    "# Create linear regression object\n",
    "regr = linear_model.LinearRegression()\n",
    "\n",
    "# Train the model using the training sets\n",
    "regr.fit(diabetes_X_train, diabetes_y_train)\n",
    "\n",
    "# The coefficients\n",
    "print('Coefficients: \\n', regr.coef_, regr.intercept_)\n",
    "# The mean squared error\n",
    "print(\"Mean squared error: %.2f\"\n",
    "      % np.mean((regr.predict(diabetes_X_test) - diabetes_y_test) ** 2))\n",
    "# Explained variance score: 1 is perfect prediction\n",
    "print('Variance score: %.2f' % regr.score(diabetes_X_test, diabetes_y_test))\n",
    "\n",
    "# Plot outputs\n",
    "plt.scatter(diabetes_X_test, diabetes_y_test,  color='black')\n",
    "plt.plot(diabetes_X_test, regr.predict(diabetes_X_test), color='blue',\n",
    "         linewidth=3)\n",
    "\n",
    "plt.xticks(())\n",
    "plt.yticks(())\n",
    "\n",
    "plt.show()\n"
   ]
  },
  {
   "cell_type": "markdown",
   "metadata": {},
   "source": [
    "# Tensorflow linear regression \n",
    "You can install it with:\n",
    "```sh\n",
    "pip install tensorflow\n",
    "```\n",
    "Our model will be small, so it should work fine with CPU.\n",
    "\n",
    "Tensorflow tl;dr \n",
    "\n",
    "First you need to create computational graph with those functions\n",
    "\n",
    "[tf.placeholder](https://www.tensorflow.org/api_docs/python/tf/placeholder) - reserve place for input\n",
    "\n",
    "[tf.Variable](https://www.tensorflow.org/api_docs/python/tf/Variable) - parameters that you will optimize\n",
    "\n",
    "tf.add, tf.multiply ... - operations (node of the computational graph) [Read the docs](https://www.tensorflow.org/api_docs/python/tf)\n",
    "\n",
    "Define:\n",
    "1. Cost function - it is also the same computational node (`cost` in example bellow)\n",
    "2. create Optimizer \n",
    "\n",
    "When you have finished to creat your computational graph, you need to create Session -> Initialize variables -> Run optimizer/\n"
   ]
  },
  {
   "cell_type": "code",
   "execution_count": 2,
   "metadata": {
    "collapsed": false
   },
   "outputs": [
    {
     "name": "stdout",
     "output_type": "stream",
     "text": [
      "Epoch: 0050 cost= 0.117614448 W= 0.362385 b= -0.0099495\n",
      "Epoch: 0100 cost= 0.112916566 W= 0.355677 b= 0.0383092\n",
      "Epoch: 0150 cost= 0.108761437 W= 0.349368 b= 0.0836979\n",
      "Epoch: 0200 cost= 0.105086386 W= 0.343434 b= 0.126387\n",
      "Epoch: 0250 cost= 0.101835981 W= 0.337853 b= 0.166537\n",
      "Epoch: 0300 cost= 0.098961174 W= 0.332603 b= 0.204299\n",
      "Epoch: 0350 cost= 0.096418560 W= 0.327666 b= 0.239816\n",
      "Epoch: 0400 cost= 0.094169848 W= 0.323023 b= 0.27322\n",
      "Epoch: 0450 cost= 0.092181012 W= 0.318656 b= 0.304638\n",
      "Epoch: 0500 cost= 0.090422124 W= 0.314548 b= 0.334186\n",
      "Epoch: 0550 cost= 0.088866554 W= 0.310685 b= 0.361978\n",
      "Epoch: 0600 cost= 0.087490827 W= 0.307052 b= 0.388116\n",
      "Epoch: 0650 cost= 0.086274229 W= 0.303635 b= 0.4127\n",
      "Epoch: 0700 cost= 0.085198283 W= 0.300421 b= 0.435822\n",
      "Epoch: 0750 cost= 0.084246777 W= 0.297397 b= 0.457568\n",
      "Epoch: 0800 cost= 0.083405353 W= 0.294554 b= 0.478022\n",
      "Epoch: 0850 cost= 0.082661286 W= 0.29188 b= 0.497258\n",
      "Epoch: 0900 cost= 0.082003325 W= 0.289365 b= 0.51535\n",
      "Epoch: 0950 cost= 0.081421502 W= 0.287 b= 0.532367\n",
      "Epoch: 1000 cost= 0.080907017 W= 0.284775 b= 0.548372\n",
      "Optimization Finished!\n",
      "Training cost= 0.080907 W= 0.284775 b= 0.548372 \n",
      "\n"
     ]
    },
    {
     "data": {
      "image/png": "[encoded data removed]",
      "text/plain": [
       "<matplotlib.figure.Figure at 0x2282788ad68>"
      ]
     },
     "metadata": {},
     "output_type": "display_data"
    },
    {
     "name": "stdout",
     "output_type": "stream",
     "text": [
      "Testing... (Mean square loss Comparison)\n",
      "Testing cost= 0.0764927\n",
      "Absolute mean square loss difference: 0.00441433\n"
     ]
    },
    {
     "data": {
      "image/png": "[encoded data removed]",
      "text/plain": [
       "<matplotlib.figure.Figure at 0x2282d328048>"
      ]
     },
     "metadata": {},
     "output_type": "display_data"
    }
   ],
   "source": [
    "from __future__ import print_function\n",
    "\n",
    "import tensorflow as tf\n",
    "import numpy\n",
    "import matplotlib.pyplot as plt\n",
    "rng = numpy.random\n",
    "\n",
    "# Parameters\n",
    "learning_rate = 0.01\n",
    "training_epochs = 1000\n",
    "display_step = 50\n",
    "\n",
    "# Training Data\n",
    "train_X = numpy.asarray([3.3,4.4,5.5,6.71,6.93,4.168,9.779,6.182,7.59,2.167,\n",
    "                         7.042,10.791,5.313,7.997,5.654,9.27,3.1])\n",
    "train_Y = numpy.asarray([1.7,2.76,2.09,3.19,1.694,1.573,3.366,2.596,2.53,1.221,\n",
    "                         2.827,3.465,1.65,2.904,2.42,2.94,1.3])\n",
    "n_samples = train_X.shape[0]\n",
    "\n",
    "# tf Graph Input\n",
    "X = tf.placeholder(\"float\")\n",
    "Y = tf.placeholder(\"float\")\n",
    "\n",
    "# Set model weights\n",
    "W = tf.Variable(rng.randn(), name=\"weight\")\n",
    "b = tf.Variable(rng.randn(), name=\"bias\")\n",
    "\n",
    "# Construct a linear model\n",
    "pred = tf.add(tf.multiply(X, W), b)\n",
    "\n",
    "# Mean squared error\n",
    "cost = tf.reduce_sum(tf.pow(pred-Y, 2))/(2*n_samples)\n",
    "# Gradient descent\n",
    "#  Note, minimize() knows to modify W and b because Variable objects are trainable=True by default\n",
    "optimizer = tf.train.GradientDescentOptimizer(learning_rate).minimize(cost)\n",
    "\n",
    "# Initializing the variables\n",
    "init = tf.global_variables_initializer()\n",
    "\n",
    "# Launch the graph\n",
    "with tf.Session() as sess:\n",
    "    sess.run(init)\n",
    "\n",
    "    # Fit all training data\n",
    "    for epoch in range(training_epochs):\n",
    "        for (x, y) in zip(train_X, train_Y):\n",
    "            sess.run(optimizer, feed_dict={X: x, Y: y})\n",
    "\n",
    "        # Display logs per epoch step\n",
    "        if (epoch+1) % display_step == 0:\n",
    "            c = sess.run(cost, feed_dict={X: train_X, Y:train_Y})\n",
    "            print(\"Epoch:\", '%04d' % (epoch+1), \"cost=\", \"{:.9f}\".format(c), \\\n",
    "                \"W=\", sess.run(W), \"b=\", sess.run(b))\n",
    "\n",
    "    print(\"Optimization Finished!\")\n",
    "    training_cost = sess.run(cost, feed_dict={X: train_X, Y: train_Y})\n",
    "    print(\"Training cost=\", training_cost, \"W=\", sess.run(W), \"b=\", sess.run(b), '\\n')\n",
    "\n",
    "    # Graphic display\n",
    "    plt.plot(train_X, train_Y, 'ro', label='Original data')\n",
    "    plt.plot(train_X, sess.run(W) * train_X + sess.run(b), label='Fitted line')\n",
    "    plt.legend()\n",
    "    plt.show()\n",
    "\n",
    "    # Testing example, as requested (Issue #2)\n",
    "    test_X = numpy.asarray([6.83, 4.668, 8.9, 7.91, 5.7, 8.7, 3.1, 2.1])\n",
    "    test_Y = numpy.asarray([1.84, 2.273, 3.2, 2.831, 2.92, 3.24, 1.35, 1.03])\n",
    "\n",
    "    print(\"Testing... (Mean square loss Comparison)\")\n",
    "    testing_cost = sess.run(\n",
    "        tf.reduce_sum(tf.pow(pred - Y, 2)) / (2 * test_X.shape[0]),\n",
    "        feed_dict={X: test_X, Y: test_Y})  # same function as cost above\n",
    "    print(\"Testing cost=\", testing_cost)\n",
    "    print(\"Absolute mean square loss difference:\", abs(\n",
    "        training_cost - testing_cost))\n",
    "\n",
    "    plt.plot(test_X, test_Y, 'bo', label='Testing data')\n",
    "    plt.plot(train_X, sess.run(W) * train_X + sess.run(b), label='Fitted line')\n",
    "    plt.legend()\n",
    "    plt.show()\n"
   ]
  },
  {
   "cell_type": "markdown",
   "metadata": {},
   "source": [
    "# Task:\n",
    "1. download dataset from https://www.kaggle.com/harlfoxem/housesalesprediction, make train, test datasets\n",
    "2. build linear regression  using `sqft_living` or `sqft_lot` of house age features \n",
    "3. build these regression models using different libraries (sklearn, statsmodel, tensorflow)\n",
    "4. compare models using $R^2$, $R^2_{adj}$ and RMSE "
   ]
  },
  {
   "cell_type": "markdown",
   "metadata": {},
   "source": [
    "Reading our data:"
   ]
  },
  {
   "cell_type": "code",
   "execution_count": 1,
   "metadata": {
    "collapsed": true
   },
   "outputs": [],
   "source": [
    "import matplotlib.pyplot as plt\n",
    "import numpy as np\n",
    "from sklearn import datasets, linear_model\n",
    "%matplotlib inline\n",
    "import pandas as pd\n",
    "from sklearn.model_selection import train_test_split\n",
    "from sklearn import datasets, linear_model\n",
    "import statsmodels.formula.api as smf\n",
    "import statsmodels.api as sm"
   ]
  },
  {
   "cell_type": "code",
   "execution_count": 2,
   "metadata": {
    "collapsed": false
   },
   "outputs": [
    {
     "data": {
      "text/html": [
       "<div>\n",
       "<table border=\"1\" class=\"dataframe\">\n",
       "  <thead>\n",
       "    <tr style=\"text-align: right;\">\n",
       "      <th></th>\n",
       "      <th>id</th>\n",
       "      <th>date</th>\n",
       "      <th>price</th>\n",
       "      <th>bedrooms</th>\n",
       "      <th>bathrooms</th>\n",
       "      <th>sqft_living</th>\n",
       "      <th>sqft_lot</th>\n",
       "      <th>floors</th>\n",
       "      <th>waterfront</th>\n",
       "      <th>view</th>\n",
       "      <th>...</th>\n",
       "      <th>grade</th>\n",
       "      <th>sqft_above</th>\n",
       "      <th>sqft_basement</th>\n",
       "      <th>yr_built</th>\n",
       "      <th>yr_renovated</th>\n",
       "      <th>zipcode</th>\n",
       "      <th>lat</th>\n",
       "      <th>long</th>\n",
       "      <th>sqft_living15</th>\n",
       "      <th>sqft_lot15</th>\n",
       "    </tr>\n",
       "  </thead>\n",
       "  <tbody>\n",
       "    <tr>\n",
       "      <th>0</th>\n",
       "      <td>7129300520</td>\n",
       "      <td>20141013T000000</td>\n",
       "      <td>221900.0</td>\n",
       "      <td>3</td>\n",
       "      <td>1.00</td>\n",
       "      <td>1180</td>\n",
       "      <td>5650</td>\n",
       "      <td>1.0</td>\n",
       "      <td>0</td>\n",
       "      <td>0</td>\n",
       "      <td>...</td>\n",
       "      <td>7</td>\n",
       "      <td>1180</td>\n",
       "      <td>0</td>\n",
       "      <td>1955</td>\n",
       "      <td>0</td>\n",
       "      <td>98178</td>\n",
       "      <td>47.5112</td>\n",
       "      <td>-122.257</td>\n",
       "      <td>1340</td>\n",
       "      <td>5650</td>\n",
       "    </tr>\n",
       "    <tr>\n",
       "      <th>1</th>\n",
       "      <td>6414100192</td>\n",
       "      <td>20141209T000000</td>\n",
       "      <td>538000.0</td>\n",
       "      <td>3</td>\n",
       "      <td>2.25</td>\n",
       "      <td>2570</td>\n",
       "      <td>7242</td>\n",
       "      <td>2.0</td>\n",
       "      <td>0</td>\n",
       "      <td>0</td>\n",
       "      <td>...</td>\n",
       "      <td>7</td>\n",
       "      <td>2170</td>\n",
       "      <td>400</td>\n",
       "      <td>1951</td>\n",
       "      <td>1991</td>\n",
       "      <td>98125</td>\n",
       "      <td>47.7210</td>\n",
       "      <td>-122.319</td>\n",
       "      <td>1690</td>\n",
       "      <td>7639</td>\n",
       "    </tr>\n",
       "    <tr>\n",
       "      <th>2</th>\n",
       "      <td>5631500400</td>\n",
       "      <td>20150225T000000</td>\n",
       "      <td>180000.0</td>\n",
       "      <td>2</td>\n",
       "      <td>1.00</td>\n",
       "      <td>770</td>\n",
       "      <td>10000</td>\n",
       "      <td>1.0</td>\n",
       "      <td>0</td>\n",
       "      <td>0</td>\n",
       "      <td>...</td>\n",
       "      <td>6</td>\n",
       "      <td>770</td>\n",
       "      <td>0</td>\n",
       "      <td>1933</td>\n",
       "      <td>0</td>\n",
       "      <td>98028</td>\n",
       "      <td>47.7379</td>\n",
       "      <td>-122.233</td>\n",
       "      <td>2720</td>\n",
       "      <td>8062</td>\n",
       "    </tr>\n",
       "    <tr>\n",
       "      <th>3</th>\n",
       "      <td>2487200875</td>\n",
       "      <td>20141209T000000</td>\n",
       "      <td>604000.0</td>\n",
       "      <td>4</td>\n",
       "      <td>3.00</td>\n",
       "      <td>1960</td>\n",
       "      <td>5000</td>\n",
       "      <td>1.0</td>\n",
       "      <td>0</td>\n",
       "      <td>0</td>\n",
       "      <td>...</td>\n",
       "      <td>7</td>\n",
       "      <td>1050</td>\n",
       "      <td>910</td>\n",
       "      <td>1965</td>\n",
       "      <td>0</td>\n",
       "      <td>98136</td>\n",
       "      <td>47.5208</td>\n",
       "      <td>-122.393</td>\n",
       "      <td>1360</td>\n",
       "      <td>5000</td>\n",
       "    </tr>\n",
       "    <tr>\n",
       "      <th>4</th>\n",
       "      <td>1954400510</td>\n",
       "      <td>20150218T000000</td>\n",
       "      <td>510000.0</td>\n",
       "      <td>3</td>\n",
       "      <td>2.00</td>\n",
       "      <td>1680</td>\n",
       "      <td>8080</td>\n",
       "      <td>1.0</td>\n",
       "      <td>0</td>\n",
       "      <td>0</td>\n",
       "      <td>...</td>\n",
       "      <td>8</td>\n",
       "      <td>1680</td>\n",
       "      <td>0</td>\n",
       "      <td>1987</td>\n",
       "      <td>0</td>\n",
       "      <td>98074</td>\n",
       "      <td>47.6168</td>\n",
       "      <td>-122.045</td>\n",
       "      <td>1800</td>\n",
       "      <td>7503</td>\n",
       "    </tr>\n",
       "  </tbody>\n",
       "</table>\n",
       "<p>5 rows × 21 columns</p>\n",
       "</div>"
      ],
      "text/plain": [
       "           id             date     price  bedrooms  bathrooms  sqft_living  \\\n",
       "0  7129300520  20141013T000000  221900.0         3       1.00         1180   \n",
       "1  6414100192  20141209T000000  538000.0         3       2.25         2570   \n",
       "2  5631500400  20150225T000000  180000.0         2       1.00          770   \n",
       "3  2487200875  20141209T000000  604000.0         4       3.00         1960   \n",
       "4  1954400510  20150218T000000  510000.0         3       2.00         1680   \n",
       "\n",
       "   sqft_lot  floors  waterfront  view     ...      grade  sqft_above  \\\n",
       "0      5650     1.0           0     0     ...          7        1180   \n",
       "1      7242     2.0           0     0     ...          7        2170   \n",
       "2     10000     1.0           0     0     ...          6         770   \n",
       "3      5000     1.0           0     0     ...          7        1050   \n",
       "4      8080     1.0           0     0     ...          8        1680   \n",
       "\n",
       "   sqft_basement  yr_built  yr_renovated  zipcode      lat     long  \\\n",
       "0              0      1955             0    98178  47.5112 -122.257   \n",
       "1            400      1951          1991    98125  47.7210 -122.319   \n",
       "2              0      1933             0    98028  47.7379 -122.233   \n",
       "3            910      1965             0    98136  47.5208 -122.393   \n",
       "4              0      1987             0    98074  47.6168 -122.045   \n",
       "\n",
       "   sqft_living15  sqft_lot15  \n",
       "0           1340        5650  \n",
       "1           1690        7639  \n",
       "2           2720        8062  \n",
       "3           1360        5000  \n",
       "4           1800        7503  \n",
       "\n",
       "[5 rows x 21 columns]"
      ]
     },
     "execution_count": 2,
     "metadata": {},
     "output_type": "execute_result"
    }
   ],
   "source": [
    "data = pd.read_csv('kc_house_data.csv')\n",
    "data.head(5)"
   ]
  },
  {
   "cell_type": "code",
   "execution_count": 66,
   "metadata": {
    "collapsed": true
   },
   "outputs": [],
   "source": [
    "target = data['price']\n",
    "dataset = data['sqft_living']\n",
    "X_train, X_test, y_train, y_test = train_test_split(dataset.values, target.values, random_state = 45, test_size=0.4)"
   ]
  },
  {
   "cell_type": "markdown",
   "metadata": {},
   "source": [
    "### Sklearn"
   ]
  },
  {
   "cell_type": "code",
   "execution_count": 67,
   "metadata": {
    "collapsed": false
   },
   "outputs": [
    {
     "name": "stdout",
     "output_type": "stream",
     "text": [
      "[[ 712204.81992857]\n",
      " [ 392067.0888578 ]\n",
      " [ 714941.03985225]\n",
      " ..., \n",
      " [ 771580.79227246]\n",
      " [ 444055.26740776]\n",
      " [ 536539.5008282 ]]\n"
     ]
    },
    {
     "data": {
      "text/plain": [
       "0.5041346604566429"
      ]
     },
     "execution_count": 67,
     "metadata": {},
     "output_type": "execute_result"
    }
   ],
   "source": [
    "X_train_sk, X_test_sk, y_train_sk, y_test_sk = X_train.reshape(-1,1), X_test.reshape(-1,1), y_train.reshape(-1,1), y_test.reshape(-1,1)\n",
    "regr = linear_model.LinearRegression()\n",
    "regr.fit(X_train_sk, y_train_sk)\n",
    "y_pred_sk = regr.predict(X_test_sk) \n",
    "print(y_pred_sk)\n",
    "regr.score(X_test_sk,y_test_sk)"
   ]
  },
  {
   "cell_type": "markdown",
   "metadata": {},
   "source": [
    "### Statistic Model"
   ]
  },
  {
   "cell_type": "code",
   "execution_count": 68,
   "metadata": {
    "collapsed": false
   },
   "outputs": [
    {
     "name": "stdout",
     "output_type": "stream",
     "text": [
      "                            OLS Regression Results                            \n",
      "==============================================================================\n",
      "Dep. Variable:                      y   R-squared:                       0.484\n",
      "Model:                            OLS   Adj. R-squared:                  0.484\n",
      "Method:                 Least Squares   F-statistic:                 1.215e+04\n",
      "Date:                Tue, 23 May 2017   Prob (F-statistic):               0.00\n",
      "Time:                        13:05:15   Log-Likelihood:            -1.7992e+05\n",
      "No. Observations:               12967   AIC:                         3.598e+05\n",
      "Df Residuals:                   12965   BIC:                         3.599e+05\n",
      "Df Model:                           1                                         \n",
      "Covariance Type:            nonrobust                                         \n",
      "==============================================================================\n",
      "                 coef    std err          t      P>|t|      [95.0% Conf. Int.]\n",
      "------------------------------------------------------------------------------\n",
      "x1           273.6220      2.482    110.224      0.000       268.756   278.488\n",
      "const      -2.931e+04   5638.826     -5.198      0.000     -4.04e+04 -1.83e+04\n",
      "==============================================================================\n",
      "Omnibus:                     8102.693   Durbin-Watson:                   2.019\n",
      "Prob(Omnibus):                  0.000   Jarque-Bera (JB):           214378.127\n",
      "Skew:                           2.556   Prob(JB):                         0.00\n",
      "Kurtosis:                      22.252   Cond. No.                     5.68e+03\n",
      "==============================================================================\n",
      "\n",
      "Warnings:\n",
      "[1] Standard Errors assume that the covariance matrix of the errors is correctly specified.\n",
      "[2] The condition number is large, 5.68e+03. This might indicate that there are\n",
      "strong multicollinearity or other numerical problems.\n"
     ]
    }
   ],
   "source": [
    "import copy\n",
    "X_train_sm, X_test_sm, y_train_sm, y_test_sm = X_train.copy(), X_test.copy(), y_train.copy(), y_test.copy()\n",
    "X_train_sm = sm.add_constant(X_train_sm, prepend=False)\n",
    "X_test_sm  = sm.add_constant(X_test_sm, prepend=False)\n",
    "mod_sm = sm.OLS(y_train_sm, X_train_sm)\n",
    "res_sm = mod_sm.fit()\n",
    "\n",
    "y_pred_sm = res_sm.predict(X_test_sm)\n",
    "print(res_sm.summary())"
   ]
  },
  {
   "cell_type": "markdown",
   "metadata": {},
   "source": [
    "### Tensorflow"
   ]
  },
  {
   "cell_type": "code",
   "execution_count": 78,
   "metadata": {
    "collapsed": false
   },
   "outputs": [
    {
     "name": "stdout",
     "output_type": "stream",
     "text": [
      "Epoch: 0020 cost= 33054769152.000000000 W= 261.785 b= 1.28093\n",
      "Epoch: 0040 cost= 33054754816.000000000 W= 261.793 b= 1.27158\n",
      "Epoch: 0060 cost= 33054754816.000000000 W= 261.793 b= 1.26223\n",
      "Epoch: 0080 cost= 33054754816.000000000 W= 261.793 b= 1.25288\n",
      "Optimization Finished!\n",
      "Training cost= 3.30548e+10 W= 261.793 b= 1.25288 \n",
      "\n"
     ]
    },
    {
     "data": {
      "image/png": "[encoded data removed]",
      "text/plain": [
       "<matplotlib.figure.Figure at 0x21a1a764c18>"
      ]
     },
     "metadata": {},
     "output_type": "display_data"
    },
    {
     "name": "stdout",
     "output_type": "stream",
     "text": [
      "Testing... (Mean square loss Comparison)\n",
      "Testing cost= 3.62549e+10\n",
      "Absolute mean square loss difference: 3.20018e+09\n"
     ]
    },
    {
     "data": {
      "image/png": "[encoded data removed]",
      "text/plain": [
       "<matplotlib.figure.Figure at 0x21a1aab0438>"
      ]
     },
     "metadata": {},
     "output_type": "display_data"
    }
   ],
   "source": [
    "from __future__ import print_function\n",
    "\n",
    "import tensorflow as tf\n",
    "import numpy\n",
    "import matplotlib.pyplot as plt\n",
    "rng = numpy.random\n",
    "\n",
    "# Parameters\n",
    "learning_rate = 1e-7\n",
    "training_epochs = 80\n",
    "display_step = 20\n",
    "\n",
    "# Training Data\n",
    "train_X, test_X, train_Y, test_Y = train_test_split(dataset, target, random_state = 45, test_size=0.4)\n",
    "#train_X, train_Y = np.array(train_X),np.array(train_Y)\n",
    "n_samples = train_X.shape[0]\n",
    "\n",
    "# tf Graph Input\n",
    "X = tf.placeholder(\"float\")\n",
    "Y = tf.placeholder(\"float\")\n",
    "\n",
    "# Set model weights\n",
    "W = tf.Variable(rng.randn(), name=\"weight\")\n",
    "b = tf.Variable(rng.randn(), name=\"bias\")\n",
    "\n",
    "# Construct a linear model\n",
    "pred = tf.add(tf.multiply(X, W), b)\n",
    "\n",
    "# Mean squared error\n",
    "cost = tf.reduce_sum(tf.pow(pred-Y, 2))/(2*n_samples)\n",
    "# Gradient descent\n",
    "#  Note, minimize() knows to modify W and b because Variable objects are trainable=True by default\n",
    "optimizer = tf.train.GradientDescentOptimizer(learning_rate).minimize(cost)\n",
    "\n",
    "# Initializing the variables\n",
    "init = tf.global_variables_initializer()\n",
    "\n",
    "# Launch the graph\n",
    "with tf.Session() as sess:\n",
    "    sess.run(init)\n",
    "\n",
    "    # Fit all training data\n",
    "    for epoch in range(training_epochs):\n",
    "        for (x, y) in zip(train_X, train_Y):\n",
    "            sess.run(optimizer, feed_dict={X: x, Y: y})\n",
    "\n",
    "        # Display logs per epoch step\n",
    "        if (epoch+1) % display_step == 0:\n",
    "            c = sess.run(cost, feed_dict={X: train_X, Y:train_Y})\n",
    "            print(\"Epoch:\", '%04d' % (epoch+1), \"cost=\", \"{:.9f}\".format(c), \\\n",
    "                \"W=\", sess.run(W), \"b=\", sess.run(b))\n",
    "\n",
    "    print(\"Optimization Finished!\")\n",
    "    training_cost = sess.run(cost, feed_dict={X: train_X, Y: train_Y})\n",
    "    print(\"Training cost=\", training_cost, \"W=\", sess.run(W), \"b=\", sess.run(b), '\\n')\n",
    "\n",
    "    # Graphic display\n",
    "    plt.plot(train_X, train_Y, 'ro', label='Original data')\n",
    "    plt.plot(train_X, sess.run(W) * train_X + sess.run(b), label='Fitted line')\n",
    "    plt.legend()\n",
    "    plt.show()\n",
    "    \n",
    "    print(\"Testing... (Mean square loss Comparison)\")\n",
    "    testing_cost = sess.run(\n",
    "        tf.reduce_sum(tf.pow(pred - Y, 2)) / (2 * test_X.shape[0]),\n",
    "        feed_dict={X: test_X, Y: test_Y})  # same function as cost above\n",
    "    print(\"Testing cost=\", testing_cost)\n",
    "    print(\"Absolute mean square loss difference:\", abs(\n",
    "        training_cost - testing_cost))\n",
    "\n",
    "    plt.plot(test_X, test_Y, 'bo', label='Testing data')\n",
    "    plt.plot(train_X, sess.run(W) * train_X + sess.run(b), label='Fitted line')\n",
    "    plt.legend()\n",
    "    plt.show()\n",
    "    \n",
    "    y_pred_tf = sess.run(W) * test_X + sess.run(b)\n"
   ]
  },
  {
   "cell_type": "markdown",
   "metadata": {},
   "source": [
    "### Computing Metrics"
   ]
  },
  {
   "cell_type": "code",
   "execution_count": 70,
   "metadata": {
    "collapsed": false
   },
   "outputs": [
    {
     "data": {
      "text/html": [
       "<div>\n",
       "<table border=\"1\" class=\"dataframe\">\n",
       "  <thead>\n",
       "    <tr style=\"text-align: right;\">\n",
       "      <th></th>\n",
       "      <th>sklearn</th>\n",
       "      <th>sm</th>\n",
       "      <th>tf</th>\n",
       "    </tr>\n",
       "  </thead>\n",
       "  <tbody>\n",
       "    <tr>\n",
       "      <th>R2</th>\n",
       "      <td>0.504135</td>\n",
       "      <td>0.483763</td>\n",
       "      <td>0.410679</td>\n",
       "    </tr>\n",
       "    <tr>\n",
       "      <th>R2adj</th>\n",
       "      <td>0.504077</td>\n",
       "      <td>0.483723</td>\n",
       "      <td>0.410611</td>\n",
       "    </tr>\n",
       "    <tr>\n",
       "      <th>RMSE</th>\n",
       "      <td>268371.456194</td>\n",
       "      <td>268371.456194</td>\n",
       "      <td>269276.510172</td>\n",
       "    </tr>\n",
       "  </tbody>\n",
       "</table>\n",
       "</div>"
      ],
      "text/plain": [
       "             sklearn             sm             tf\n",
       "R2          0.504135       0.483763       0.410679\n",
       "R2adj       0.504077       0.483723       0.410611\n",
       "RMSE   268371.456194  268371.456194  269276.510172"
      ]
     },
     "execution_count": 70,
     "metadata": {},
     "output_type": "execute_result"
    }
   ],
   "source": [
    "metrics_table = pd.DataFrame(index = ('R2','R2adj','RMSE'), columns = ('sklearn','sm','tf'))\n",
    "\n",
    "def RMSE(predict, initial):\n",
    "    return np.sqrt(np.mean((predict-initial)**2))\n",
    "#sklearn\n",
    "r = []\n",
    "r.append(regr.score(X_test_sk,y_test_sk))\n",
    "r.append(r[0] - (1.-r[0])/(y_test.shape[0] - 2.))\n",
    "r.append(RMSE(y_pred_sk, y_test_sk))\n",
    "metrics_table['sklearn'] = r\n",
    "#sm\n",
    "r = []\n",
    "r.append(res_sm.rsquared)\n",
    "r.append(res_sm.rsquared_adj)\n",
    "r.append(RMSE(y_pred_sm, y_test_sm))\n",
    "metrics_table['sm'] = r\n",
    "metrics_table\n",
    "#tf\n",
    "r = []\n",
    "r.append(np.dot(y_pred_tf - np.mean(y_test), y_pred_tf - np.mean(y_test))/np.dot(y_test - np.mean(y_test), y_test - np.mean(y_test)))\n",
    "r.append(r[0] - (1.-r[0])/(y_test.shape[0] - 2.))\n",
    "r.append(RMSE(y_pred_tf, y_test))\n",
    "metrics_table['tf'] = r\n",
    "metrics_table"
   ]
  },
  {
   "cell_type": "markdown",
   "metadata": {},
   "source": [
    "We can see that these algorithms are not very good. Sklearn shows the best results, but sm is not so far behind. Tensorflow showed the worst results, but I don't think they are very different, because it could be probably reach the same number by tweaking epochs or learning rate. RSME corresponds to calculated metrics. Also $R^2$, $R^2_{adj}$ are not really different."
   ]
  },
  {
   "cell_type": "markdown",
   "metadata": {},
   "source": [
    "# Categorical variables\n",
    "\n",
    "Task:\n",
    "1. Answer the questions:\n",
    "    - What is a categorical variables?\n",
    "    - Which features from the house sales dataset are categical?\n",
    "    - How can you make model using these features?"
   ]
  },
  {
   "cell_type": "markdown",
   "metadata": {},
   "source": [
    "**What is a categorical variable?** It is a variable that can take on one of the finite, usually fixed number of values. Assings objects to a certain group (category).\n",
    "\n",
    "**Which features from the house sales dataset are categorical?** Floors, waterfront, view, condition, zipcode\n",
    "\n",
    "**How can you make model using these features?** If a categorical value has more than two different values, then bring new, so-called dichotomous variables instead of a categorical one. If a categorical value has n levels (n different values), it can be splitted into n-1 variables with 2 values. E.g. for a condition variable we can introduce variables that were denoted as 'bad','average','good' and 'excellent' and the values would be (0 0 0 0 - awful (1), 1 0 0 0 - bad (2), 0 1 0 0 - average (3) , 0 0 1 0 - good (4), 0 0 0 1 - excellent (5)). Dichotomouse variables can be introduced into a model: The regression weight is added or subtracted to the prdeicted value of Y depending upon whether it is positive or negative."
   ]
  },
  {
   "cell_type": "markdown",
   "metadata": {},
   "source": [
    "## Regularization\n",
    "\n",
    "Regularization is a method for \"constraining\" or \"regularizing\" the size of the coefficients, thus \"shrinking\" them towards zero. It tends to reduce variance more than it increases bias, and thus minimizes overfitting.\n",
    "\n",
    "Common regularization techniques for linear models:\n",
    "\n",
    "- **Ridge regression** (also known as \"L2 regularization\"): shrinks coefficients toward zero (but they never reach zero)\n",
    "- **Lasso regularization** (also known as \"L1 regularization\"): shrinks coefficients all the way to zero\n",
    "- **ElasticNet regularization**: balance between Ridge and Lasso\n",
    "\n",
    "Lasso regularization is useful if we believe many features are irrelevant, since a feature with a zero coefficient is essentially removed from the model. Thus, it is a useful technique for feature selection.\n",
    "\n",
    "How does regularization work?\n",
    "\n",
    "- A tuning parameter alpha (or sometimes lambda) imposes a penalty on the size of coefficients.\n",
    "- Instead of minimizing the \"loss function\" (mean squared error), it minimizes the \"loss plus penalty\".\n",
    "- A tiny alpha imposes no penalty on the coefficient size, and is equivalent to a normal linear model.\n",
    "- Increasing the alpha penalizes the coefficients and shrinks them toward zero.\n",
    "\n",
    "\n",
    "![reg_picture](https://qph.ec.quoracdn.net/main-qimg-2a88e2acc009fa4de3edeb51e683ca02)\n",
    "\n",
    "\n",
    "Task:\n",
    "1. Build crosscorrelation table for features\n",
    "2. Fit linear regression model using at least 2 highly correlated features\n",
    "3. Plot values of regrssion coefficients as a function of regularization parameter $\\alpha$ for LASSO and RIDGE models. [example](http://scikit-learn.org/stable/auto_examples/linear_model/plot_ridge_path.html#sphx-glr-auto-examples-linear-model-plot-ridge-path-py)"
   ]
  },
  {
   "cell_type": "markdown",
   "metadata": {},
   "source": [
    "### 1. Build crosscorrelation table for features"
   ]
  },
  {
   "cell_type": "markdown",
   "metadata": {},
   "source": [
    "I've picked max values regarding correlation and we can see here that first two values are the same, which means sqft_above and sqft_living are highly correlated with each other."
   ]
  },
  {
   "cell_type": "code",
   "execution_count": 38,
   "metadata": {
    "collapsed": false
   },
   "outputs": [
    {
     "data": {
      "text/plain": [
       "sqft_above       0.876597\n",
       "sqft_living      0.876597\n",
       "grade            0.762704\n",
       "sqft_living15    0.756420\n",
       "bathrooms        0.754665\n",
       "sqft_lot         0.718557\n",
       "sqft_lot15       0.718557\n",
       "price            0.702035\n",
       "bedrooms         0.576671\n",
       "floors           0.523885\n",
       "yr_built         0.506019\n",
       "sqft_basement    0.435043\n",
       "long             0.409356\n",
       "view             0.401857\n",
       "waterfront       0.401857\n",
       "lat              0.307003\n",
       "zipcode          0.267048\n",
       "condition        0.174105\n",
       "yr_renovated     0.126434\n",
       "id               0.021380\n",
       "dtype: float64"
      ]
     },
     "execution_count": 38,
     "metadata": {},
     "output_type": "execute_result"
    }
   ],
   "source": [
    "corr = data.corr()\n",
    "np.fill_diagonal(corr.values, 0)\n",
    "corr.max().sort_values(ascending = False)"
   ]
  },
  {
   "cell_type": "code",
   "execution_count": 43,
   "metadata": {
    "collapsed": false
   },
   "outputs": [
    {
     "name": "stdout",
     "output_type": "stream",
     "text": [
      "[[ 705523.85827579]\n",
      " [ 389217.54488363]\n",
      " [ 708227.33103982]\n",
      " ..., \n",
      " [ 764189.21725536]\n",
      " [ 440583.52740031]\n",
      " [ 531960.90682471]]\n"
     ]
    },
    {
     "data": {
      "text/plain": [
       "0.50467602252097776"
      ]
     },
     "execution_count": 43,
     "metadata": {},
     "output_type": "execute_result"
    }
   ],
   "source": [
    "dataset = data[['sqft_living','sqft_above']]"
   ]
  },
  {
   "cell_type": "markdown",
   "metadata": {},
   "source": [
    "### Ridge and Lasso, following the example"
   ]
  },
  {
   "cell_type": "code",
   "execution_count": 56,
   "metadata": {
    "collapsed": false
   },
   "outputs": [
    {
     "data": {
      "image/png": "[encoded data removed]",
      "text/plain": [
       "<matplotlib.figure.Figure at 0x21a1aab0940>"
      ]
     },
     "metadata": {},
     "output_type": "display_data"
    }
   ],
   "source": [
    "from sklearn import preprocessing as pr\n",
    "\n",
    "X = pr.scale(dataset)\n",
    "y = pr.scale(target)\n",
    "\n",
    "n_alphas = 200\n",
    "alphas = np.logspace(10, -7,  n_alphas)\n",
    "clf = linear_model.Ridge(fit_intercept=False)\n",
    "\n",
    "coefs = []\n",
    "for a in alphas:\n",
    "    clf.set_params(alpha=a)\n",
    "    clf.fit(X, y)\n",
    "    coefs.append(clf.coef_)\n",
    "    \n",
    "ax = plt.gca()\n",
    "\n",
    "ax.plot(alphas, coefs)\n",
    "ax.set_xscale('log')\n",
    "ax.set_xlim(ax.get_xlim()[::-1])  # reverse axis\n",
    "plt.xlabel('alpha')\n",
    "plt.ylabel('weights')\n",
    "plt.title('Ridge coefficients as a function of the regularization')\n",
    "plt.axis('tight')\n",
    "plt.ylim([-0.1,0.8])\n",
    "plt.show()    "
   ]
  },
  {
   "cell_type": "code",
   "execution_count": 57,
   "metadata": {
    "collapsed": false
   },
   "outputs": [
    {
     "data": {
      "image/png": "[encoded data removed]",
      "text/plain": [
       "<matplotlib.figure.Figure at 0x21a1aab4da0>"
      ]
     },
     "metadata": {},
     "output_type": "display_data"
    }
   ],
   "source": [
    "from sklearn import preprocessing as pr\n",
    "\n",
    "alphas = np.logspace(3, -5,  n_alphas)\n",
    "clf = linear_model.Lasso(fit_intercept=False)\n",
    "\n",
    "coefs = []\n",
    "for a in alphas:\n",
    "    clf.set_params(alpha=a)\n",
    "    clf.fit(X, y)\n",
    "    coefs.append(clf.coef_)\n",
    "    \n",
    "ax = plt.gca()\n",
    "\n",
    "ax.plot(alphas, coefs)\n",
    "ax.set_xscale('log')\n",
    "#ax.set_xlim(ax.get_xlim()[::-1])  # reverse axis\n",
    "plt.xlabel('alpha')\n",
    "plt.ylabel('weights')\n",
    "plt.title('Ridge coefficients as a function of the regularization')\n",
    "plt.axis('tight')\n",
    "plt.ylim([-0.1,0.8])\n",
    "plt.show()    "
   ]
  },
  {
   "cell_type": "markdown",
   "metadata": {},
   "source": [
    "For Ride and Lasso regularization behaviour is usual - with increasing a the solution tends to zero. But also noticeable that sqft_living (the blue line) coefficients have much more \"weight\" in a decision and weight as it is."
   ]
  },
  {
   "cell_type": "markdown",
   "metadata": {},
   "source": [
    "# Regression trees \n",
    "\n",
    "Task:\n",
    "1. try `sklearn.tree.DecisionTreeRegressor`\n",
    "2. compare models using $R^2$, $R^2_{adj}$ and RMSE \n"
   ]
  },
  {
   "cell_type": "code",
   "execution_count": 71,
   "metadata": {
    "collapsed": false
   },
   "outputs": [],
   "source": [
    "from sklearn.tree import DecisionTreeRegressor\n",
    "\n",
    "target = data['price']\n",
    "dataset = data['sqft_living']\n",
    "X_train_tr, X_test_tr, y_train_tr, y_test_tr = X_train_sk.copy(), X_test_sk.copy(), y_train_sk.copy(), y_test_sk.copy()\n",
    "\n",
    "regr_tr = DecisionTreeRegressor()\n",
    "regr_tr.fit(X_train_tr,y_train_tr)\n",
    "y_pred_tr = regr_tr.predict(X_test_tr)"
   ]
  },
  {
   "cell_type": "code",
   "execution_count": 77,
   "metadata": {
    "collapsed": false
   },
   "outputs": [
    {
     "data": {
      "text/html": [
       "<div>\n",
       "<table border=\"1\" class=\"dataframe\">\n",
       "  <thead>\n",
       "    <tr style=\"text-align: right;\">\n",
       "      <th></th>\n",
       "      <th>sklearn</th>\n",
       "      <th>sm</th>\n",
       "      <th>tf</th>\n",
       "      <th>tree</th>\n",
       "    </tr>\n",
       "  </thead>\n",
       "  <tbody>\n",
       "    <tr>\n",
       "      <th>R2</th>\n",
       "      <td>0.504135</td>\n",
       "      <td>0.483763</td>\n",
       "      <td>0.410679</td>\n",
       "      <td>0.486711</td>\n",
       "    </tr>\n",
       "    <tr>\n",
       "      <th>R2adj</th>\n",
       "      <td>0.504077</td>\n",
       "      <td>0.483723</td>\n",
       "      <td>0.410611</td>\n",
       "      <td>0.486652</td>\n",
       "    </tr>\n",
       "    <tr>\n",
       "      <th>RMSE</th>\n",
       "      <td>268371.456194</td>\n",
       "      <td>268371.456194</td>\n",
       "      <td>269276.510172</td>\n",
       "      <td>273045.774875</td>\n",
       "    </tr>\n",
       "  </tbody>\n",
       "</table>\n",
       "</div>"
      ],
      "text/plain": [
       "             sklearn             sm             tf           tree\n",
       "R2          0.504135       0.483763       0.410679       0.486711\n",
       "R2adj       0.504077       0.483723       0.410611       0.486652\n",
       "RMSE   268371.456194  268371.456194  269276.510172  273045.774875"
      ]
     },
     "execution_count": 77,
     "metadata": {},
     "output_type": "execute_result"
    }
   ],
   "source": [
    "r = []\n",
    "r.append(regr_tr.score(X_test_tr,y_test_tr))\n",
    "r.append(r[0] - (1.-r[0])/(y_test.shape[0] - 2.))\n",
    "r.append(RMSE(y_pred_tr, y_test))\n",
    "metrics_table['tree'] = r\n",
    "metrics_table"
   ]
  },
  {
   "cell_type": "markdown",
   "metadata": {},
   "source": [
    "Tree's is on the same level with sklearn and sm."
   ]
  },
  {
   "cell_type": "markdown",
   "metadata": {},
   "source": [
    "# XGBoost regressor \n",
    "I have mentioned it here only for you to know about the existence of that model"
   ]
  },
  {
   "cell_type": "markdown",
   "metadata": {},
   "source": [
    "### Is it legit?"
   ]
  },
  {
   "cell_type": "code",
   "execution_count": null,
   "metadata": {
    "collapsed": true
   },
   "outputs": [],
   "source": [
    "import statsmodels.formula.api as smf\n",
    "\n",
    "sm = smf.ols('sqft_living ~ price', data=data)\n",
    "result = sm.fit()\n",
    "print(result.summary())\n",
    "\n",
    "y_pred_sm = sm.predict(data.price.values)"
   ]
  }
 ],
 "metadata": {
  "anaconda-cloud": {},
  "kernelspec": {
   "display_name": "Python [conda env:py35]",
   "language": "python",
   "name": "conda-env-py35-py"
  },
  "language_info": {
   "codemirror_mode": {
    "name": "ipython",
    "version": 3
   },
   "file_extension": ".py",
   "mimetype": "text/x-python",
   "name": "python",
   "nbconvert_exporter": "python",
   "pygments_lexer": "ipython3",
   "version": "3.5.2"
  }
 },
 "nbformat": 4,
 "nbformat_minor": 1
}
