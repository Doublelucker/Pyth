{
 "cells": [
  {
   "cell_type": "code",
   "execution_count": 54,
   "metadata": {
    "collapsed": false
   },
   "outputs": [],
   "source": [
    "from autocorrect import spell\n",
    "import pandas as pd"
   ]
  },
  {
   "cell_type": "code",
   "execution_count": 86,
   "metadata": {
    "collapsed": true
   },
   "outputs": [],
   "source": [
    "def data_prep(file):\n",
    "    correct = []\n",
    "    mistakes = []\n",
    "    with open('%s' % file, 'r') as f:\n",
    "        for line in f:\n",
    "            if line.rstrip().startswith('$'):\n",
    "                correct.append(line.rstrip().replace('$',''))           \n",
    "            else:\n",
    "                mistakes.append(line.rstrip().split()[0])\n",
    "    return correct, mistakes"
   ]
  },
  {
   "cell_type": "code",
   "execution_count": 87,
   "metadata": {
    "collapsed": false
   },
   "outputs": [],
   "source": [
    "files = ['aspell.txt','birkberk.txt','holbrook.txt','wiki.txt']\n",
    "acc = []\n",
    "for i, f in enumerate(files):\n",
    "    correct, mistakes = data_prep('Data\\%s'%f)\n",
    "    result = [spell(mis) for mis in mistakes if spell(mis) in correct]\n",
    "    acc.append(len(result)/len(mistakes) * 100)"
   ]
  },
  {
   "cell_type": "code",
   "execution_count": 92,
   "metadata": {
    "collapsed": false
   },
   "outputs": [
    {
     "data": {
      "text/html": [
       "<div>\n",
       "<table border=\"1\" class=\"dataframe\">\n",
       "  <thead>\n",
       "    <tr style=\"text-align: right;\">\n",
       "      <th></th>\n",
       "      <th>accuracy</th>\n",
       "    </tr>\n",
       "  </thead>\n",
       "  <tbody>\n",
       "    <tr>\n",
       "      <th>aspell</th>\n",
       "      <td>41.242938</td>\n",
       "    </tr>\n",
       "    <tr>\n",
       "      <th>birkberk</th>\n",
       "      <td>46.957075</td>\n",
       "    </tr>\n",
       "    <tr>\n",
       "      <th>holbrook</th>\n",
       "      <td>38.135120</td>\n",
       "    </tr>\n",
       "    <tr>\n",
       "      <th>wiki</th>\n",
       "      <td>73.849287</td>\n",
       "    </tr>\n",
       "  </tbody>\n",
       "</table>\n",
       "</div>"
      ],
      "text/plain": [
       "           accuracy\n",
       "aspell    41.242938\n",
       "birkberk  46.957075\n",
       "holbrook  38.135120\n",
       "wiki      73.849287"
      ]
     },
     "execution_count": 92,
     "metadata": {},
     "output_type": "execute_result"
    }
   ],
   "source": [
    "table = pd.DataFrame(data = acc, index = ['aspell','birkberk','holbrook','wiki'], columns = ['accuracy'])\n",
    "table"
   ]
  },
  {
   "cell_type": "code",
   "execution_count": 94,
   "metadata": {
    "collapsed": false
   },
   "outputs": [
    {
     "data": {
      "text/plain": [
       "['tramped',\n",
       " 'trash',\n",
       " 'eye',\n",
       " 'break',\n",
       " 'trot',\n",
       " 'harsh',\n",
       " 'went',\n",
       " 'part',\n",
       " 'Lou',\n",
       " 'clue',\n",
       " 'Abrupt',\n",
       " 'betroth',\n",
       " 'betroth',\n",
       " 'blow',\n",
       " 'clape',\n",
       " 'wat',\n",
       " 'the',\n",
       " 'had',\n",
       " 'wut',\n",
       " 'stamp',\n",
       " 'break',\n",
       " 'beek',\n",
       " 'beech',\n",
       " 'door']"
      ]
     },
     "execution_count": 94,
     "metadata": {},
     "output_type": "execute_result"
    }
   ],
   "source": [
    "l = ['trampel','trahs','eYh','braek','trott','carsh','weit','part','lou',\n",
    "     'cluee','Aburpt','betrouth','betroth','blowr','clape',\n",
    "    'wat','hte','har','wut','stampl','brek','beek','blech','zoor']\n",
    "[spell(l) for l in l]\n"
   ]
  }
 ],
 "metadata": {
  "anaconda-cloud": {},
  "kernelspec": {
   "display_name": "Python [default]",
   "language": "python",
   "name": "python3"
  },
  "language_info": {
   "codemirror_mode": {
    "name": "ipython",
    "version": 3
   },
   "file_extension": ".py",
   "mimetype": "text/x-python",
   "name": "python",
   "nbconvert_exporter": "python",
   "pygments_lexer": "ipython3",
   "version": "3.5.2"
  }
 },
 "nbformat": 4,
 "nbformat_minor": 1
}
